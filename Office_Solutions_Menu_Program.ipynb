{
  "nbformat": 4,
  "nbformat_minor": 0,
  "metadata": {
    "colab": {
      "provenance": [],
      "include_colab_link": true
    },
    "kernelspec": {
      "name": "python3",
      "display_name": "Python 3"
    },
    "language_info": {
      "name": "python"
    }
  },
  "cells": [
    {
      "cell_type": "markdown",
      "metadata": {
        "id": "view-in-github",
        "colab_type": "text"
      },
      "source": [
        "<a href=\"https://colab.research.google.com/github/LeNatalie/OfficeSolutions/blob/main/Office_Solutions_Menu_Program.ipynb\" target=\"_parent\"><img src=\"https://colab.research.google.com/assets/colab-badge.svg\" alt=\"Open In Colab\"/></a>"
      ]
    },
    {
      "cell_type": "code",
      "execution_count": null,
      "metadata": {
        "id": "5Bti0LqYaDZ9",
        "colab": {
          "base_uri": "https://localhost:8080/"
        },
        "outputId": "abf6f064-adcd-4047-91e1-8395b3721d33"
      },
      "outputs": [
        {
          "output_type": "stream",
          "name": "stdout",
          "text": [
            "<pandas.io.excel._base.ExcelFile object at 0x798ccc741750>\n",
            "      Row ID        Order ID Order Date  Ship Date       Ship Mode  \\\n",
            "0       4919  CA-2017-160304 2017-01-02 2017-01-07  Standard Class   \n",
            "1       4920  CA-2017-160304 2017-01-02 2017-01-07  Standard Class   \n",
            "2       3074  CA-2017-125206 2017-01-03 2017-01-05     First Class   \n",
            "3       8604  US-2017-116365 2017-01-03 2017-01-08  Standard Class   \n",
            "4       8605  US-2017-116365 2017-01-03 2017-01-08  Standard Class   \n",
            "...      ...             ...        ...        ...             ...   \n",
            "9989    2325  CA-2020-109470 2020-12-31 2020-01-03    Second Class   \n",
            "9990    6072  CA-2020-120901 2020-12-31 2020-01-04  Standard Class   \n",
            "9991    6073  CA-2020-120901 2020-12-31 2020-01-04  Standard Class   \n",
            "9992    6074  CA-2020-120901 2020-12-31 2020-01-04  Standard Class   \n",
            "9993    7356  CA-2020-139780 2020-12-31 2020-01-02    Second Class   \n",
            "\n",
            "     Customer ID      Customer Name    Segment        Country          City  \\\n",
            "0       BM-11575      Brendan Murry  Corporate  United States  Gaithersburg   \n",
            "1       BM-11575      Brendan Murry  Corporate  United States  Gaithersburg   \n",
            "2       LR-16915       Lena Radford   Consumer  United States   Los Angeles   \n",
            "3       CA-12310  Christine Abelman  Corporate  United States   San Antonio   \n",
            "4       CA-12310  Christine Abelman  Corporate  United States   San Antonio   \n",
            "...          ...                ...        ...            ...           ...   \n",
            "9989    KC-16255     Karen Carlisle  Corporate  United States     Henderson   \n",
            "9990    BG-11035     Barry Gonzalez   Consumer  United States        Austin   \n",
            "9991    BG-11035     Barry Gonzalez   Consumer  United States        Austin   \n",
            "9992    BG-11035     Barry Gonzalez   Consumer  United States        Austin   \n",
            "9993    AH-10690      Anna Häberlin  Corporate  United States       Detroit   \n",
            "\n",
            "      ... Postal Code   Region       Product ID         Category Sub-Category  \\\n",
            "0     ...       20877     East  FUR-BO-10004709        Furniture    Bookcases   \n",
            "1     ...       20877     East  TEC-PH-10000455       Technology       Phones   \n",
            "2     ...       90045     West  OFF-ST-10003692  Office Supplies      Storage   \n",
            "3     ...       78207  Central  TEC-AC-10002217       Technology  Accessories   \n",
            "4     ...       78207  Central  TEC-AC-10002942       Technology  Accessories   \n",
            "...   ...         ...      ...              ...              ...          ...   \n",
            "9989  ...       42420    South  OFF-BI-10000977  Office Supplies      Binders   \n",
            "9990  ...       78745  Central  OFF-ST-10000025  Office Supplies      Storage   \n",
            "9991  ...       78745  Central  OFF-FA-10001561  Office Supplies    Fasteners   \n",
            "9992  ...       78745  Central  OFF-SU-10001225  Office Supplies     Supplies   \n",
            "9993  ...       48205  Central  OFF-BI-10004139  Office Supplies      Binders   \n",
            "\n",
            "                                           Product Name    Sales  Quantity  \\\n",
            "0     Bush Westfield Collection Bookcases, Medium Ch...  173.940         3   \n",
            "1                                           GE 30522EE2  231.980         2   \n",
            "2     Recycled Steel Personal File for Hanging File ...  114.460         2   \n",
            "3                   Imation Clip USB flash drive - 8 GB   30.080         2   \n",
            "4     WD My Passport Ultra 1TB Portable External Har...  165.600         3   \n",
            "...                                                 ...      ...       ...   \n",
            "9989                 Ibico Plastic Spiral Binding Combs  364.800        12   \n",
            "9990    Fellowes Stor/Drawer Steel Plus Storage Drawers  152.688         2   \n",
            "9991                                Stockwell Push Pins    3.488         2   \n",
            "9992                                     Staple remover    5.888         2   \n",
            "9993  Fellowes Presentation Covers for Comb Binding ...  116.400         8   \n",
            "\n",
            "      Discount    Profit  \n",
            "0          0.0   38.2668  \n",
            "1          0.0   67.2742  \n",
            "2          0.0   28.6150  \n",
            "3          0.2   -5.2640  \n",
            "4          0.2   -6.2100  \n",
            "...        ...       ...  \n",
            "9989       0.0  167.8080  \n",
            "9990       0.2  -26.7204  \n",
            "9991       0.2    0.5668  \n",
            "9992       0.2   -1.3248  \n",
            "9993       0.0   52.3800  \n",
            "\n",
            "[9994 rows x 21 columns]\n",
            "   Row ID        Order ID Order Date  Ship Date       Ship Mode Customer ID  \\\n",
            "0    4919  CA-2017-160304 2017-01-02 2017-01-07  Standard Class    BM-11575   \n",
            "1    4920  CA-2017-160304 2017-01-02 2017-01-07  Standard Class    BM-11575   \n",
            "2    3074  CA-2017-125206 2017-01-03 2017-01-05     First Class    LR-16915   \n",
            "3    8604  US-2017-116365 2017-01-03 2017-01-08  Standard Class    CA-12310   \n",
            "4    8605  US-2017-116365 2017-01-03 2017-01-08  Standard Class    CA-12310   \n",
            "5    8606  US-2017-116365 2017-01-03 2017-01-08  Standard Class    CA-12310   \n",
            "6    9494  CA-2017-105207 2017-01-03 2017-01-08  Standard Class    BO-11350   \n",
            "7    9495  CA-2017-105207 2017-01-03 2017-01-08  Standard Class    BO-11350   \n",
            "8    2898  US-2017-164630 2017-01-04 2017-01-09  Standard Class    EB-13975   \n",
            "9    5868  CA-2017-158211 2017-01-04 2017-01-08  Standard Class    BP-11185   \n",
            "\n",
            "       Customer Name    Segment        Country          City  ... Postal Code  \\\n",
            "0      Brendan Murry  Corporate  United States  Gaithersburg  ...       20877   \n",
            "1      Brendan Murry  Corporate  United States  Gaithersburg  ...       20877   \n",
            "2       Lena Radford   Consumer  United States   Los Angeles  ...       90045   \n",
            "3  Christine Abelman  Corporate  United States   San Antonio  ...       78207   \n",
            "4  Christine Abelman  Corporate  United States   San Antonio  ...       78207   \n",
            "5  Christine Abelman  Corporate  United States   San Antonio  ...       78207   \n",
            "6      Bill Overfelt  Corporate  United States  Broken Arrow  ...       74012   \n",
            "7      Bill Overfelt  Corporate  United States  Broken Arrow  ...       74012   \n",
            "8         Erica Bern  Corporate  United States     Charlotte  ...       28205   \n",
            "9       Ben Peterman  Corporate  United States  Philadelphia  ...       19143   \n",
            "\n",
            "    Region       Product ID         Category Sub-Category  \\\n",
            "0     East  FUR-BO-10004709        Furniture    Bookcases   \n",
            "1     East  TEC-PH-10000455       Technology       Phones   \n",
            "2     West  OFF-ST-10003692  Office Supplies      Storage   \n",
            "3  Central  TEC-AC-10002217       Technology  Accessories   \n",
            "4  Central  TEC-AC-10002942       Technology  Accessories   \n",
            "5  Central  TEC-PH-10002890       Technology       Phones   \n",
            "6  Central  FUR-TA-10000617        Furniture       Tables   \n",
            "7  Central  OFF-BI-10004364  Office Supplies      Binders   \n",
            "8    South  TEC-CO-10000971       Technology      Copiers   \n",
            "9     East  OFF-AR-10004078  Office Supplies          Art   \n",
            "\n",
            "                                        Product Name     Sales  Quantity  \\\n",
            "0  Bush Westfield Collection Bookcases, Medium Ch...   173.940         3   \n",
            "1                                        GE 30522EE2   231.980         2   \n",
            "2  Recycled Steel Personal File for Hanging File ...   114.460         2   \n",
            "3                Imation Clip USB flash drive - 8 GB    30.080         2   \n",
            "4  WD My Passport Ultra 1TB Portable External Har...   165.600         3   \n",
            "5                      AT&T 17929 Lendline Telephone   180.960         5   \n",
            "6  Hon Practical Foundations 30 x 60 Training Tab...  1592.850         7   \n",
            "7                            Storex Dura Pro Binders    11.880         2   \n",
            "8           Hewlett Packard 310 Color Digital Copier   959.968         4   \n",
            "9                                         Newell 312     4.672         1   \n",
            "\n",
            "   Discount    Profit  \n",
            "0       0.0   38.2668  \n",
            "1       0.0   67.2742  \n",
            "2       0.0   28.6150  \n",
            "3       0.2   -5.2640  \n",
            "4       0.2   -6.2100  \n",
            "5       0.2   13.5720  \n",
            "6       0.0  350.4270  \n",
            "7       0.0    5.3460  \n",
            "8       0.2  119.9960  \n",
            "9       0.2    0.5840  \n",
            "\n",
            "[10 rows x 21 columns]\n"
          ]
        }
      ],
      "source": [
        "import pandas as pd\n",
        "xl=pd.ExcelFile(\"/content/TableauSalesData.xlsx\")\n",
        "SalesData = xl.parse(\"Orders\")\n",
        "print(xl)\n",
        "print(SalesData)\n",
        "print(SalesData.head(10))"
      ]
    },
    {
      "cell_type": "markdown",
      "source": [
        "Natalie's Menu"
      ],
      "metadata": {
        "id": "fhooeYiqb_Bw"
      }
    },
    {
      "cell_type": "code",
      "source": [
        "#1: Corpororate Account Profits\n",
        "def CorpAcctProf():\n",
        "  SegCustomerProfits = SalesData[[\"Segment\",\"Customer Name\",\"Profit\"]]\n",
        "  CorpSegProfits = SegCustomerProfits.loc[SegCustomerProfits[\"Segment\"]==\"Corporate\"].groupby(by = \"Customer Name\").sum().sort_values(by = \"Profit\", ascending = False).round()\n",
        "  display(CorpSegProfits)"
      ],
      "metadata": {
        "id": "4Ag4DLe4b0Fk"
      },
      "execution_count": null,
      "outputs": []
    },
    {
      "cell_type": "code",
      "source": [
        "#2: Average Yearly Product Discount by Region\n",
        "def AvgYearlyProdRegDiscount():\n",
        "  SubCats = SalesData[\"Sub-Category\"].unique()\n",
        "  print(SubCats)\n",
        "  sub_cat = input(\"Select the product sub-category: \")\n",
        "  JustSubCat = SalesData.loc[SalesData[\"Sub-Category\"] == sub_cat]\n",
        "  JustSubCatYear = JustSubCat.copy()\n",
        "  JustSubCatYear[\"Year\"] = JustSubCatYear[\"Order Date\"].dt.year\n",
        "  Years = JustSubCatYear.Year.unique()\n",
        "  RegJustSubCatYear = JustSubCatYear[[\"Region\",\"Year\",\"Discount\"]]\n",
        "  for year in Years:\n",
        "    OneYear = RegJustSubCatYear.loc[RegJustSubCatYear[\"Year\"]== year]\n",
        "    NoYear = OneYear[[\"Region\",\"Discount\"]]\n",
        "    YearlyRegDiscount = NoYear.groupby(by = \"Region\").mean()\n",
        "    print(\"\\nRegional product discounts for the year: \" + str(year))\n",
        "    print(YearlyRegDiscount)\n",
        "    print(\"*\"*40)"
      ],
      "metadata": {
        "id": "kc3d2mD_b25E"
      },
      "execution_count": null,
      "outputs": []
    },
    {
      "cell_type": "code",
      "source": [
        "#3: Customer Account Sales\n",
        "def SegmentSales():\n",
        "  SegCustomerSales = SalesData[[\"Segment\",\"Customer Name\",\"Sales\"]]\n",
        "  TotalSegSales = SegCustomerSales.groupby(by = [\"Segment\",\"Customer Name\"]).sum().sort_values(by = \"Sales\", ascending = False).round()\n",
        "  display(TotalSegSales)"
      ],
      "metadata": {
        "id": "L6Bic7nRb55t"
      },
      "execution_count": null,
      "outputs": []
    },
    {
      "cell_type": "code",
      "source": [
        "#4: Profitable Sub-Categories by Segment\n",
        "def SubCatsProfits():\n",
        "  SubCatsSegProf = SalesData[[\"Sub-Category\", \"Segment\", \"Profit\"]]\n",
        "  TotalSubCatsSegProfits = SubCatsSegProf.groupby(by = [\"Segment\", \"Sub-Category\"]).sum().sort_values(by = \"Profit\", ascending = False)\n",
        "  display(TotalSubCatsSegProfits)"
      ],
      "metadata": {
        "id": "QSGOtx-cP25r"
      },
      "execution_count": null,
      "outputs": []
    },
    {
      "cell_type": "code",
      "source": [
        "#5: Profit and Sales by Category\n",
        "def CategoryProfSales():\n",
        "  CatProfitSales = SalesData[[\"Category\",\"Sub-Category\",\"Profit\",\"Sales\"]].groupby(by = [\"Category\",\"Sub-Category\"]).sum().sort_values(by = \"Profit\")\n",
        "  display(CatProfitSales)"
      ],
      "metadata": {
        "id": "94L6Dve0P6VH"
      },
      "execution_count": null,
      "outputs": []
    },
    {
      "cell_type": "code",
      "source": [
        "#6: Average Annual Product Discounts for Each Segment by Region\n",
        "def AvgRegSubCatDiscount():\n",
        "  SubCats = SalesData[\"Sub-Category\"].unique()\n",
        "  print(SubCats)\n",
        "  sub_cat = input(\"Select the product sub-category: \")\n",
        "  JustSubCat = SalesData.loc[SalesData[\"Sub-Category\"] == sub_cat]\n",
        "  JustSubCatYear = JustSubCat.copy()\n",
        "  JustSubCatYear[\"Year\"] = JustSubCatYear[\"Order Date\"].dt.year\n",
        "  Years = JustSubCatYear.Year.unique()\n",
        "  Regions = JustSubCatYear.Region.unique()\n",
        "  SegJustSubCatYear = JustSubCatYear[[\"Segment\", \"Year\", \"Discount\", \"Region\"]]\n",
        "  for year in Years:\n",
        "    OneYear = SegJustSubCatYear.loc[SegJustSubCatYear[\"Year\"]== year]\n",
        "    NoYear = OneYear[[\"Segment\", \"Discount\", \"Region\"]]\n",
        "    for region in Regions:\n",
        "      OneRegion = NoYear.loc[NoYear[\"Region\"]==region]\n",
        "      YearlySegRegDiscount = OneRegion.groupby(by = \"Segment\").mean()\n",
        "      print(\"\\n\" + str(year) + \" Product Discounts by Customer Segment in the \" + region + \" region\")\n",
        "      print(YearlySegRegDiscount)\n",
        "      print(\"*\"*40)"
      ],
      "metadata": {
        "id": "AIWEgf_xkYg_"
      },
      "execution_count": null,
      "outputs": []
    },
    {
      "cell_type": "code",
      "source": [
        "#Natalie's Menu\n",
        "def menu1():\n",
        "  print(\"\\n Enter 1 to see the Most & Least Profitable Corporate Customer Accounts\" +\n",
        "      \"\\n Enter 2 to see the Average Yearly Product Discount by Region\" +\n",
        "      \"\\n Enter 3 to see the Highest & Lowest Customer Account Sales\" +\n",
        "      \"\\n Enter 4 to see the Most & Least Profitable Sub-Categories by Customer Segment\" +\n",
        "      \"\\n Enter 5 to see the Profit and Sales by Category\" +\n",
        "      \"\\n Enter 6 to see the Average Annual Product Discounts for Each Segment by Region\" +\n",
        "      \"\\n Enter 7 to quit\\n\")\n",
        "  choice = input(\"Please enter your selection here: \")\n",
        "  print(\"\\n\")\n",
        "#Q1: Most and Least Profitable Corporate Accounts\n",
        "  if choice == \"1\":\n",
        "    CorpAcctProf()\n",
        "    choice2 = input(\"Would you like to make a new selection? y/n: \")\n",
        "    if choice2 == \"y\":\n",
        "      menu1()\n",
        "    elif choice2 == \"n\":\n",
        "      print(\"Returning to menu selection...\")\n",
        "#Q2: Average Yearly Product Discount by Region\n",
        "  elif choice == \"2\":\n",
        "    AvgYearlyProdRegDiscount()\n",
        "    choice2 = input(\"Would you like to make a new selection? y/n: \")\n",
        "    if choice2 == \"y\":\n",
        "      menu1()\n",
        "    elif choice2 == \"n\":\n",
        "      print(\"Returning to menu selection...\")\n",
        "#Q3: Highest & Lowest Customer Account Sales\n",
        "  elif choice == \"3\":\n",
        "    SegmentSales()\n",
        "    choice2 = input(\"Would you like to make a new selection? y/n: \")\n",
        "    if choice2 == \"y\":\n",
        "      menu1()\n",
        "    elif choice2 == \"n\":\n",
        "      print(\"Returning to menu selection...\")\n",
        "#Q4: Most & Least Profitable Product by Customer Segment\n",
        "  elif choice == \"4\":\n",
        "    SubCatsProfits()\n",
        "    choice2 = input(\"Would you like to make a new selection? y/n: \")\n",
        "    if choice2 == \"y\":\n",
        "      menu1()\n",
        "    elif choice2 == \"n\":\n",
        "      print(\"Returning to menu selection...\")\n",
        "#Q5: Profit and Sales by Category\n",
        "  elif choice == \"5\":\n",
        "    CategoryProfSales()\n",
        "    choice2 = input(\"Would you like to make a new selection? y/n: \")\n",
        "    if choice2 == \"y\":\n",
        "      menu1()\n",
        "    elif choice2 == \"n\":\n",
        "      print(\"Returning to menu selection...\")\n",
        "#Q6: Average Annual Product Discounts for Each Segment by Region\n",
        "  elif choice == \"6\":\n",
        "    AvgRegSubCatDiscount()\n",
        "    choice2 = input(\"Would you like to make a new selection? y/n: \")\n",
        "    if choice2 == \"y\":\n",
        "      menu1()\n",
        "    elif choice2 == \"n\":\n",
        "      print(\"Returning to menu selection...\")\n",
        "  elif choice == \"7\":\n",
        "    print(\"Thank you for using the Office Solutions Data Analytics System\")\n",
        "  else:\n",
        "    print(\"You have entered an invalid option, please select from one of the options provided: \")\n",
        "    menu1()"
      ],
      "metadata": {
        "id": "dRUVYN1Obq-H"
      },
      "execution_count": null,
      "outputs": []
    },
    {
      "cell_type": "markdown",
      "source": [
        "Harry's Menu"
      ],
      "metadata": {
        "id": "yqO5JnNzxsZB"
      }
    },
    {
      "cell_type": "code",
      "source": [
        "#1: Products with Negative Profits\n",
        "def NegProfProducts():\n",
        "  TableProf = SalesData[[\"Region\", \"Product Name\",\"Profit\"]]\n",
        "  NegTables = TableProf[TableProf[\"Profit\"] < 0.0].sort_values(by = \"Profit\")\n",
        "  display(NegTables)\n",
        "  print()"
      ],
      "metadata": {
        "id": "awGfiIyLyMv5"
      },
      "execution_count": null,
      "outputs": []
    },
    {
      "cell_type": "code",
      "source": [
        "#2: Lowest Sales By Region\n",
        "def LowestRegSales():\n",
        "  TableRegSales = SalesData[[\"Region\", \"Sales\"]].groupby(\"Region\").sum().sort_values(by = \"Sales\", ascending = True).round(2)\n",
        "  display(TableRegSales)\n",
        "  print()"
      ],
      "metadata": {
        "id": "guuG4m_xyM_w"
      },
      "execution_count": null,
      "outputs": []
    },
    {
      "cell_type": "code",
      "source": [
        "#3: Yearly Sales of Copiers\n",
        "def YearlySales():\n",
        "  JustCopiers = SalesData.loc[SalesData[\"Sub-Category\"]==\"Copiers\"]\n",
        "  JustCopiersYears = JustCopiers.copy()\n",
        "  JustCopiersYears[\"Year\"] = JustCopiersYears[\"Order Date\"].dt.year\n",
        "  YearlySales = JustCopiersYears[[\"Year\",\"Sales\"]].groupby(by=\"Year\").sum()\n",
        "  print(\"The yearly sales for copiers are:\")\n",
        "  print(YearlySales)"
      ],
      "metadata": {
        "id": "9STfaWnMyNJ6"
      },
      "execution_count": null,
      "outputs": []
    },
    {
      "cell_type": "code",
      "source": [
        "#4: Segment Product Profit and Sales by Region\n",
        "def SegRegProductProfitSales():\n",
        "  sub_cat = input(\"Select the product sub-category: \")\n",
        "  JustSubCat = SalesData.loc[SalesData[\"Sub-Category\"] == sub_cat]\n",
        "  Regions = JustSubCat.Region.unique()\n",
        "  TableSegRegion = JustSubCat[[\"Segment\", \"Region\", \"Profit\", \"Sales\"]]\n",
        "  for region in Regions:\n",
        "    TableSegment = TableSegRegion.loc[TableSegRegion[\"Region\"]==region]\n",
        "    TableSegmentProfSales = TableSegment.groupby(\"Segment\").sum().sort_values(\"Profit\").round(2)\n",
        "    print(\"\\nCopier sub-category profits and sales for reach cusgomter segment in the \" + region + \" are as follows:\")\n",
        "    print(TableSegmentProfSales)\n",
        "    print(\"*\" * 40)\n",
        "    print()"
      ],
      "metadata": {
        "id": "9hUIhxriyNVI"
      },
      "execution_count": null,
      "outputs": []
    },
    {
      "cell_type": "code",
      "source": [
        "#5: Pie Chart of Total Sub-Category Sales\n",
        "def TotalSegmentProfitSales():\n",
        "  import pandas as pd\n",
        "  import matplotlib.pyplot as plt\n",
        "  import seaborn as sns\n",
        "\n",
        "  xl=pd.ExcelFile(\"/content/TableauSalesData.xlsx\")\n",
        "  SalesData = xl.parse(\"Orders\")\n",
        "  sub_cat2 = input(\"Select the product sub-category: \")\n",
        "  JustSubCat2 = SalesData.loc[SalesData[\"Sub-Category\"] == sub_cat2]\n",
        "  NewTableYears = JustSubCat2.copy()\n",
        "  NewTableYears[\"Year\"] = NewTableYears[\"Order Date\"].dt.year\n",
        "\n",
        "  NewTableYearsSales = NewTableYears[[\"Year\",\"Sales\"]].groupby(by=\"Year\").sum()\n",
        "  NewTableYearsSales = NewTableYearsSales.reset_index()\n",
        "\n",
        "  NewTableYearsSales = NewTableYears[[\"Year\",\"Sales\"]].groupby(by=\"Year\").sum()\n",
        "  NewTableYearsSales = NewTableYearsSales.reset_index()\n",
        "  plt.figure(figsize=(6,6))\n",
        "  plt.title(\"Yearly \" + sub_cat2 + \" Sales\")\n",
        "  plt.pie(NewTableYearsSales.Sales, labels=NewTableYearsSales.Year)\n",
        "  plt.show()\n",
        "\n",
        "  print()"
      ],
      "metadata": {
        "id": "pL9yGp3Hyh0H"
      },
      "execution_count": null,
      "outputs": []
    },
    {
      "cell_type": "code",
      "source": [
        "#6: Correlation between Discount and Sales for Copiers\n",
        "def CorrelationDiscountSales():\n",
        "  import scipy.stats\n",
        "  JustCopiers = SalesData.loc[SalesData[\"Sub-Category\"]==\"Copiers\"]\n",
        "  x = \"Discount\"\n",
        "  y = \"Sales\"\n",
        "  GetCorrelation = scipy.stats.spearmanr(JustCopiers[x], JustCopiers[y])\n",
        "  Corr = GetCorrelation[0]\n",
        "  CorrRounded = str(Corr.round(2))\n",
        "  pValue = GetCorrelation[1]\n",
        "  pValuerounded = str(pValue.round(5))\n",
        "  print(\"The correlation between \" + x + \" and \" + y + \" for Copiers is: \" + CorrRounded )\n",
        "  print(\"At p value: \" + pValuerounded)\n",
        "  print()"
      ],
      "metadata": {
        "id": "Us_QK6TmyjqZ"
      },
      "execution_count": null,
      "outputs": []
    },
    {
      "cell_type": "code",
      "source": [
        "#Harry's Menu\n",
        "def menu2():\n",
        "  print(\"Welcome to the Office Solutions Data Analytics System\")\n",
        "  print(\"\\n Enter 1 to see Products with Negative Profits by Region\" +\n",
        "      \"\\n Enter 2 to see the Lowest Sales by Region\" +\n",
        "      \"\\n Enter 3 to see Yearly Sales\" +\n",
        "      \"\\n Enter 4 to see Segment Product Profit and Sales by Region\" +\n",
        "      \"\\n Enter 5 to see Pie Chart of Total Sub-Category Sales\" +\n",
        "      \"\\n Enter 6 to see Correlation between Discount and Sales for Copiers\" +\n",
        "      \"\\n Enter 7 to quit\\n\")\n",
        "  choice = input(\"Please enter your selection here: \")\n",
        "  print(\"\\n\")\n",
        "  if choice == \"1\":\n",
        "    NegProfProducts()\n",
        "    repeat = input(\"Would you like to make another selection? (y/n)\")\n",
        "    if repeat == \"y\":\n",
        "      menu2()\n",
        "    else:\n",
        "      print(\"Returning to menu selection...\")\n",
        "  elif choice == \"2\":\n",
        "    LowestRegSales()\n",
        "    repeat = input(\"Would you like to make another selection? (y/n)\")\n",
        "    if repeat == \"y\":\n",
        "      menu2()\n",
        "    else:\n",
        "      print(\"Returning to menu selection...\")\n",
        "  elif choice == \"3\":\n",
        "    YearlySales()\n",
        "    repeat = input(\"Would you like to make another selection? (y/n)\")\n",
        "    if repeat == \"y\":\n",
        "      menu2()\n",
        "    else:\n",
        "      print(\"Returning to menu selection...\")\n",
        "  elif choice == \"4\":\n",
        "    SegRegProductProfitSales()\n",
        "    repeat = input(\"Would you like to make another selection? (y/n)\")\n",
        "    if repeat == \"y\":\n",
        "      menu2()\n",
        "    else:\n",
        "      print(\"Returning to menu selection...\")\n",
        "  elif choice == \"5\":\n",
        "    TotalSegmentProfitSales()\n",
        "    repeat = input(\"Would you like to make another selection? (y/n)\")\n",
        "    if repeat == \"y\":\n",
        "      menu2()\n",
        "    else:\n",
        "      print(\"Returning to menu selection...\")\n",
        "  elif choice == \"6\":\n",
        "    CorrelationDiscountSales()\n",
        "    repeat = input(\"Would you like to make another selection? (y/n)\")\n",
        "    if repeat == \"y\":\n",
        "      menu2()\n",
        "    else:\n",
        "      print(\"Returning to menu selection...\")\n",
        "  elif choice == \"7\":\n",
        "    print(\"Selection aborted. Returning to menu selection...\")\n",
        "  else:\n",
        "    print(\"You have entered an invalid option, please select from one of the options provided: \")\n",
        "    menu2()"
      ],
      "metadata": {
        "id": "hujql_g5xv0O"
      },
      "execution_count": null,
      "outputs": []
    },
    {
      "cell_type": "markdown",
      "source": [
        "Vincent's Menu"
      ],
      "metadata": {
        "id": "vOFg9sl30iM0"
      }
    },
    {
      "cell_type": "code",
      "source": [
        "#1: Corporate accounts with lowest sales\n",
        "def CorpAccLow():\n",
        "  CorpAcc = SalesData[[\"Customer Name\", \"Segment\", \"Sales\"]].loc[SalesData[\"Segment\"]==\"Corporate\"]\n",
        "  LowSales = CorpAcc[CorpAcc[\"Sales\"] < 200].sort_values(by = \"Sales\", ascending = False)\n",
        "  display(LowSales)"
      ],
      "metadata": {
        "id": "JDtU-zeJ0k9e"
      },
      "execution_count": null,
      "outputs": []
    },
    {
      "cell_type": "code",
      "source": [
        "#2: Highest Profit margin corporate accounts with sales under 200\n",
        "def ProfMarginCorp():\n",
        "  CorpAcc = SalesData[[\"Customer Name\", \"Segment\", \"Profit\", \"Sales\"]].loc[SalesData[\"Segment\"]==\"Corporate\"]\n",
        "  CorpAcc[\"Profit Margin\"] =  CorpAcc[\"Profit\"]/CorpAcc[\"Sales\"]\n",
        "  CorpAcc = CorpAcc.sort_values(by = \"Profit Margin\", ascending = False)\n",
        "  display(CorpAcc)"
      ],
      "metadata": {
        "id": "pGwMyVqK0qzf"
      },
      "execution_count": null,
      "outputs": []
    },
    {
      "cell_type": "code",
      "source": [
        "#3: Lowest Sales Products by Category\n",
        "def LowSalesByCat():\n",
        "  CatSales = SalesData[[\"Product Name\", \"Category\", \"Sales\"]]\n",
        "  Categories = CatSales.Category.unique()\n",
        "  for category in Categories:\n",
        "    Cat = CatSales.loc[CatSales[\"Category\"]==category]\n",
        "    LowSales = Cat.groupby(\"Product Name\").sum().sort_values(by=\"Sales\")\n",
        "    display(\"The lowest sales products in the \" + category + \" category are as follows:\")\n",
        "    display(LowSales)\n",
        "    display(\"*\"*70)"
      ],
      "metadata": {
        "id": "Dj8zlWE40q_t"
      },
      "execution_count": null,
      "outputs": []
    },
    {
      "cell_type": "code",
      "source": [
        "#4: Lowest Profit by category\n",
        "def LowProfByCat():\n",
        "  CatSales = SalesData[[\"Product Name\", \"Category\", \"Profit\"]]\n",
        "  Categories = CatSales.Category.unique()\n",
        "  for category in Categories:\n",
        "    Cat = CatSales.loc[CatSales[\"Category\"]==category]\n",
        "    LowSales = Cat.groupby(\"Product Name\").sum().sort_values(by=\"Profit\")\n",
        "    display(\"The lowest profit products in the \" + category + \" category are as follows:\")\n",
        "    display(LowSales)\n",
        "    display(\"*\"*70)"
      ],
      "metadata": {
        "id": "O1XoepFZ0rOx"
      },
      "execution_count": null,
      "outputs": []
    },
    {
      "cell_type": "code",
      "source": [
        "#5: Highest sales by segment\n",
        "def HighSalesBySeg():\n",
        "  SalesAndSeg = SalesData[[\"Product Name\", \"Segment\", \"Sales\"]]\n",
        "  Segments = SalesAndSeg.Segment.unique()\n",
        "  for segment in Segments:\n",
        "    SalesInSeg = SalesAndSeg.loc[SalesAndSeg[\"Segment\"]==segment]\n",
        "    SalesInSeg = SalesInSeg.groupby(\"Product Name\").sum().sort_values(by=\"Sales\", ascending = False).round(2).head(10)\n",
        "    display(\"The highest sales products in the \" + segment + \" segment are as follows\")\n",
        "    display(SalesInSeg)\n",
        "    display(\"*\"*70)"
      ],
      "metadata": {
        "id": "dOIvbvNN0rX6"
      },
      "execution_count": null,
      "outputs": []
    },
    {
      "cell_type": "code",
      "source": [
        "#6: Average Annual Product Sales for Each Segment by Region\n",
        "def AvgAnnSalesSegReg():\n",
        "  SubCats = SalesData[\"Sub-Category\"].unique()\n",
        "  print(SubCats)\n",
        "  Cat = SalesData[[\"Segment\",\"Sales\",\"Region\", \"Order Date\"]]\n",
        "  Cat[\"Year\"] = Cat[\"Order Date\"].dt.year\n",
        "  Years = Cat.Year.unique()\n",
        "  Regions = Cat.Region.unique()\n",
        "  for year in Years:\n",
        "    OneYear = Cat.loc[Cat[\"Year\"]== year]\n",
        "    NoYear = OneYear[[\"Segment\", \"Sales\", \"Region\"]]\n",
        "    for region in Regions:\n",
        "      OneRegion = NoYear.loc[NoYear[\"Region\"]==region]\n",
        "      YearlySegRegDiscount = OneRegion.groupby(by = \"Segment\").mean()\n",
        "      print(\"\\n\" + str(year) + \" Product Sales by Customer Segment in the \" + region + \" region\")\n",
        "      print(YearlySegRegDiscount)\n",
        "      print(\"*\"*40)"
      ],
      "metadata": {
        "id": "Dz8ErHZQ0rgi"
      },
      "execution_count": null,
      "outputs": []
    },
    {
      "cell_type": "code",
      "source": [
        "#Vincent's Menu\n",
        "def menu3():\n",
        "  print(\"\\n Now showing Vincent's menu\"\n",
        "      \"\\n Enter 1 to see Corporate Accounts with the lowest sales\" +\n",
        "      \"\\n Enter 2 to see Profit margin for corporate accounts with sales under 200\" +\n",
        "      \"\\n Enter 3 to see Lowest Sales by category\" +\n",
        "      \"\\n Enter 4 to see Lowest corporate sales by state\" +\n",
        "      \"\\n Enter 5 to see Highest sales by segment\" +\n",
        "      \"\\n Enter 6 to see Average Annual Sales for each segment by region\" +\n",
        "      \"\\n Enter 7 to quit\\n\")\n",
        "  choice = input(\"Please enter your selection here: \")\n",
        "  print(\"\\n\")\n",
        "  if choice == \"1\":\n",
        "    CorpAccLow()\n",
        "    repeat = input(\"Would you like to make another selection? (y/n)\")\n",
        "    if repeat == \"y\":\n",
        "      menu3()\n",
        "    else:\n",
        "      print(\"Returning to menu selection...\")\n",
        "  elif choice == \"2\":\n",
        "    ProfMarginCorp()\n",
        "    repeat = input(\"Would you like to make another selection? (y/n)\")\n",
        "    if repeat == \"y\":\n",
        "      menu3()\n",
        "    else:\n",
        "      print(\"Returning to menu selection...\")\n",
        "  elif choice == \"3\":\n",
        "    LowSalesByCat()\n",
        "    repeat = input(\"Would you like to make another selection? (y/n)\")\n",
        "    if repeat == \"y\":\n",
        "      menu3()\n",
        "    else:\n",
        "      print(\"Returning to menu selection...\")\n",
        "  elif choice == \"4\":\n",
        "    LowProfByCat()\n",
        "    repeat = input(\"Would you like to make another selection? (y/n)\")\n",
        "    if repeat == \"y\":\n",
        "      menu3()\n",
        "    else:\n",
        "      print(\"Returning to menu selection...\")\n",
        "  elif choice == \"5\":\n",
        "    HighSalesBySeg()\n",
        "    repeat = input(\"Would you like to make another selection? (y/n)\")\n",
        "    if repeat == \"y\":\n",
        "      menu3()\n",
        "    else:\n",
        "      print(\"Returning to menu selection...\")\n",
        "  elif choice == \"6\":\n",
        "    AvgAnnSalesSegReg()\n",
        "    repeat = input(\"Would you like to make another selection? (y/n)\")\n",
        "    if repeat == \"y\":\n",
        "      menu3()\n",
        "    else:\n",
        "      print(\"Returning to menu selection...\")\n",
        "  elif choice == \"7\":\n",
        "    print(\"Thank you for using the Office Solutions Data Analytics System\")\n",
        "  else:\n",
        "    print(\"You have entered an invalid option, please select from one of the options provided: \")\n",
        "    menu3()"
      ],
      "metadata": {
        "id": "WbBczS2_0r2v"
      },
      "execution_count": null,
      "outputs": []
    },
    {
      "cell_type": "markdown",
      "source": [
        "Extra Credit: Master (Nested) Menu"
      ],
      "metadata": {
        "id": "O_vrvjV0oc-z"
      }
    },
    {
      "cell_type": "code",
      "source": [
        "print(\"Welcome to the Office Solutions Data Analytics System\")\n",
        "def mastermenu():\n",
        "  print(\"\\n Enter 1 to see Natalie's Menu\" +\n",
        "      \"\\n Enter 2 to see Harry's Menu\" +\n",
        "      \"\\n Enter 3 to see Vincent's Menu\" +\n",
        "      \"\\n Enter 4 to quit\\n\")\n",
        "  choice = input(\"Please enter your selection here: \")\n",
        "  print(\"\\n\")\n",
        "  if choice == \"1\":\n",
        "    menu1()\n",
        "    iterate = input(\"Would you like to select another menu? (y/n)\")\n",
        "    if iterate == \"y\":\n",
        "      mastermenu()\n",
        "    else:\n",
        "      print(\"Thank you for using the Office Solutions Data Analytics System\")\n",
        "  elif choice == \"2\":\n",
        "    menu2()\n",
        "    iterate = input(\"Would you like to select another menu? (y/n)\")\n",
        "    if iterate == \"y\":\n",
        "      mastermenu()\n",
        "    else:\n",
        "      print(\"Thank you for using the Office Solutions Data Analytics System\")\n",
        "  elif choice == \"3\":\n",
        "    menu3()\n",
        "    iterate = input(\"Would you like to select another menu? (y/n)\")\n",
        "    if iterate == \"y\":\n",
        "      mastermenu()\n",
        "    else:\n",
        "      print(\"Thank you for using the Office Solutions Data Analytics System\")\n",
        "  elif choice == \"4\":\n",
        "    print(\"Selection aborted. Have a great day!\")\n",
        "  else:\n",
        "    print(\"You have entered an invalid option, please select from one of the options provided: \")\n",
        "    mastermenu()\n",
        "\n",
        "mastermenu()"
      ],
      "metadata": {
        "colab": {
          "base_uri": "https://localhost:8080/"
        },
        "id": "5p4ZUzJ-ogAy",
        "outputId": "3ad33d99-5121-48cd-a6be-acae30a5d87a"
      },
      "execution_count": null,
      "outputs": [
        {
          "output_type": "stream",
          "name": "stdout",
          "text": [
            "Welcome to the Office Solutions Data Analytics System\n",
            "\n",
            " Enter 1 to see Natalie's Menu\n",
            " Enter 2 to see Harry's Menu\n",
            " Enter 3 to see Vincent's Menu\n",
            " Enter 4 to quit\n",
            "\n",
            "Please enter your selection here: 1\n",
            "\n",
            "\n",
            "\n",
            " Enter 1 to see the Most & Least Profitable Corporate Customer Accounts\n",
            " Enter 2 to see the Average Yearly Product Discount by Region\n",
            " Enter 3 to see the Highest & Lowest Customer Account Sales\n",
            " Enter 4 to see the Most & Least Profitable Sub-Categories by Customer Segment\n",
            " Enter 5 to see the Profit and Sales by Category\n",
            " Enter 6 to see the Average Annual Product Discounts for Each Segment by Region\n",
            " Enter 7 to quit\n",
            "\n",
            "Please enter your selection here: 2\n",
            "\n",
            "\n",
            "['Bookcases' 'Phones' 'Storage' 'Accessories' 'Tables' 'Binders' 'Copiers'\n",
            " 'Art' 'Furnishings' 'Paper' 'Envelopes' 'Chairs' 'Fasteners' 'Appliances'\n",
            " 'Labels' 'Machines' 'Supplies']\n",
            "Select the product sub-category: Phones\n",
            "\n",
            "Regional product discounts for the year: 2017\n",
            "         Discount\n",
            "Region           \n",
            "Central  0.093548\n",
            "East     0.175000\n",
            "South    0.143750\n",
            "West     0.200000\n",
            "****************************************\n",
            "\n",
            "Regional product discounts for the year: 2018\n",
            "         Discount\n",
            "Region           \n",
            "Central  0.144828\n",
            "East     0.166667\n",
            "South    0.110638\n",
            "West     0.200000\n",
            "****************************************\n",
            "\n",
            "Regional product discounts for the year: 2019\n",
            "         Discount\n",
            "Region           \n",
            "Central  0.151724\n",
            "East     0.167442\n",
            "South    0.047059\n",
            "West     0.200000\n",
            "****************************************\n",
            "\n",
            "Regional product discounts for the year: 2020\n",
            "         Discount\n",
            "Region           \n",
            "Central  0.113725\n",
            "East     0.133333\n",
            "South    0.096296\n",
            "West     0.200000\n",
            "****************************************\n",
            "Would you like to make a new selection? y/n: n\n",
            "Returning to menu selection...\n",
            "Would you like to select another menu? (y/n)n\n",
            "Thank you for using the Office Solutions Data Analytics System\n"
          ]
        }
      ]
    }
  ]
}